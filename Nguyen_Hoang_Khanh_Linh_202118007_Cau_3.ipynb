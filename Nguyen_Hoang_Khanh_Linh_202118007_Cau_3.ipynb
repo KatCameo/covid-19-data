{
  "nbformat": 4,
  "nbformat_minor": 0,
  "metadata": {
    "colab": {
      "name": "Nguyen Hoang Khanh Linh_202118007_Cau 3.ipynb",
      "provenance": [],
      "collapsed_sections": [],
      "include_colab_link": true
    },
    "kernelspec": {
      "name": "python3",
      "display_name": "Python 3"
    },
    "language_info": {
      "name": "python"
    }
  },
  "cells": [
    {
      "cell_type": "markdown",
      "metadata": {
        "id": "view-in-github",
        "colab_type": "text"
      },
      "source": [
        "<a href=\"https://colab.research.google.com/github/KatCameo/covid-19-data/blob/master/Nguyen_Hoang_Khanh_Linh_202118007_Cau_3.ipynb\" target=\"_parent\"><img src=\"https://colab.research.google.com/assets/colab-badge.svg\" alt=\"Open In Colab\"/></a>"
      ]
    },
    {
      "cell_type": "code",
      "execution_count": 1,
      "metadata": {
        "id": "xVHdBMXOSdwc"
      },
      "outputs": [],
      "source": [
        "from collections import defaultdict\n",
        "from queue import PriorityQueue "
      ]
    },
    {
      "cell_type": "code",
      "source": [
        "data = defaultdict(list)\n",
        "data['A'] = ['B',2,'N',12,'D',2,12]\n",
        "data['B'] = ['H',2,'J',6,1]\n",
        "data['N'] = ['E',12,'F',3,8]\n",
        "data['D'] = ['G',3,2]\n",
        "data['H'] = [3]\n",
        "data['J'] = [2]\n",
        "data['E'] = [0]\n",
        "data['F'] = ['K',3,4]\n",
        "data['K'] = [0]\n",
        "data['G'] = [3]\n",
        "\n"
      ],
      "metadata": {
        "id": "FbEZj1TvSx2P"
      },
      "execution_count": 2,
      "outputs": []
    },
    {
      "cell_type": "code",
      "source": [
        "class Node:\n",
        "  def __init__ (self, name, par=None,g=0, h=0):\n",
        "    self.name = name\n",
        "    self.par = par\n",
        "    self.g = g\n",
        "    self.h = h\n",
        "  def display(self):\n",
        "    print (self.name,self.g,self.h)\n",
        "  def __lt__ (self,other):\n",
        "    if other == None:\n",
        "      return False\n",
        "    return self.g + self.h < other.g + other.h\n",
        "  def __eg__ (self, other):\n",
        "    if other == None:\n",
        "      return False\n",
        "    return self.name == other.name"
      ],
      "metadata": {
        "id": "y2lOTm0KUdMa"
      },
      "execution_count": 3,
      "outputs": []
    },
    {
      "cell_type": "code",
      "source": [
        "def equal (O,G):\n",
        "  if O.name == G.name:\n",
        "    return True\n",
        "  return False\n",
        "def checkInPriority (tmp,c):\n",
        "  if tmp == None:\n",
        "    return False\n",
        "  return (tmp in c.queue)\n",
        "def getPath(O):\n",
        "  print (O.name)\n",
        "  if O.par != None:\n",
        "    getPath(O.par)\n",
        "  else:\n",
        "    return"
      ],
      "metadata": {
        "id": "dV-BDd9qVbe5"
      },
      "execution_count": 4,
      "outputs": []
    },
    {
      "cell_type": "code",
      "source": [
        "def AStart (S = Node('A'), G= Node('N')):\n",
        "  Open = PriorityQueue()\n",
        "  Closed = PriorityQueue()\n",
        "  S.h = data [S.name][-1]\n",
        "  Open.put(S)\n",
        "  while True:\n",
        "    if Open.empty()==True:\n",
        "      print ('Tìm kiếm thất bại')\n",
        "      return\n",
        "    O = Open.get()\n",
        "    Closed.put(O)\n",
        "    print('Duyệt: ', O.name,O.g ,O.h)\n",
        "    if equal(O,G) == True:\n",
        "      print('Tìm kiếm thành công')\n",
        "      getPath(O)\n",
        "      print ('Distance: ', (O.g + O.h))\n",
        "      return\n",
        "    i = 0\n",
        "    while i < len(data[O.name]) - 1 :\n",
        "      name = data[O.name][i]\n",
        "      g = O.g + data[O.name][i+1]\n",
        "      h = data[name][-1]\n",
        "      tmp = Node (name = name,g=g ,h=h)\n",
        "      tmp.par = O\n",
        "      ok1 = checkInPriority(tmp,Open)\n",
        "      ok2 = checkInPriority(tmp,Closed)\n",
        "      if not ok1 and not ok2:\n",
        "        Open.put(tmp)\n",
        "      i += 2"
      ],
      "metadata": {
        "id": "yG3-hd83V8uA"
      },
      "execution_count": 5,
      "outputs": []
    },
    {
      "cell_type": "code",
      "source": [
        "AStart (Node('A'),Node('E'))"
      ],
      "metadata": {
        "colab": {
          "base_uri": "https://localhost:8080/"
        },
        "id": "tF8e5jgOW_0H",
        "outputId": "625be0e7-f56c-4d67-8c1b-7808321488fe"
      },
      "execution_count": 6,
      "outputs": [
        {
          "output_type": "stream",
          "name": "stdout",
          "text": [
            "Duyệt:  A 0 12\n",
            "Duyệt:  B 2 1\n",
            "Duyệt:  D 2 2\n",
            "Duyệt:  H 4 3\n",
            "Duyệt:  G 5 3\n",
            "Duyệt:  J 8 2\n",
            "Duyệt:  N 12 8\n",
            "Duyệt:  F 15 4\n",
            "Duyệt:  K 18 0\n",
            "Duyệt:  E 24 0\n",
            "Tìm kiếm thành công\n",
            "E\n",
            "N\n",
            "A\n",
            "Distance:  24\n"
          ]
        }
      ]
    },
    {
      "cell_type": "code",
      "source": [
        "AStart (Node('A'),Node('K'))"
      ],
      "metadata": {
        "colab": {
          "base_uri": "https://localhost:8080/"
        },
        "id": "H7EUPQ5lXI43",
        "outputId": "dcec00bd-86c4-4184-8008-7a0f7981cab7"
      },
      "execution_count": 7,
      "outputs": [
        {
          "output_type": "stream",
          "name": "stdout",
          "text": [
            "Duyệt:  A 0 12\n",
            "Duyệt:  B 2 1\n",
            "Duyệt:  D 2 2\n",
            "Duyệt:  H 4 3\n",
            "Duyệt:  G 5 3\n",
            "Duyệt:  J 8 2\n",
            "Duyệt:  N 12 8\n",
            "Duyệt:  F 15 4\n",
            "Duyệt:  K 18 0\n",
            "Tìm kiếm thành công\n",
            "K\n",
            "F\n",
            "N\n",
            "A\n",
            "Distance:  18\n"
          ]
        }
      ]
    }
  ]
}